{
 "cells": [
  {
   "cell_type": "code",
   "execution_count": 1,
   "id": "4e0f4b2c",
   "metadata": {},
   "outputs": [],
   "source": [
    "import requests\n",
    "import os   \n",
    "\n",
    "data = {\n",
    "    \"phone_number_to_call\": os.getenv(\"PHONE_NUMBER_TO_CALL\")\n",
    "}\n",
    "\n",
    "response = requests.post(\"http://localhost:8000/make-call\", json=data)"
   ]
  },
  {
   "cell_type": "code",
   "execution_count": null,
   "id": "cea3d6b8",
   "metadata": {},
   "outputs": [],
   "source": []
  }
 ],
 "metadata": {
  "kernelspec": {
   "display_name": ".venv",
   "language": "python",
   "name": "python3"
  },
  "language_info": {
   "codemirror_mode": {
    "name": "ipython",
    "version": 3
   },
   "file_extension": ".py",
   "mimetype": "text/x-python",
   "name": "python",
   "nbconvert_exporter": "python",
   "pygments_lexer": "ipython3",
   "version": "3.12.9"
  }
 },
 "nbformat": 4,
 "nbformat_minor": 5
}
